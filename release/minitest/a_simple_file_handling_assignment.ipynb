{
 "cells": [
  {
   "cell_type": "markdown",
   "metadata": {},
   "source": [
    "Before you turn this problem in, make sure everything runs as expected. First, **restart the kernel** (in the menubar, select Kernel$\\rightarrow$Restart) and then **run all cells** (in the menubar, select Cell$\\rightarrow$Run All).\n",
    "\n",
    "Make sure you fill in any place that says `YOUR CODE HERE` or \"YOUR ANSWER HERE\", as well as your name and collaborators below:"
   ]
  },
  {
   "cell_type": "code",
   "execution_count": null,
   "metadata": {},
   "outputs": [],
   "source": [
    "NAME = \"\"\n",
    "COLLABORATORS = \"\""
   ]
  },
  {
   "cell_type": "markdown",
   "metadata": {},
   "source": [
    "---"
   ]
  },
  {
   "cell_type": "markdown",
   "metadata": {
    "deletable": false,
    "editable": false,
    "nbgrader": {
     "cell_type": "markdown",
     "checksum": "ccabf3a38b6e047553d6b827b3cd0da2",
     "grade": false,
     "grade_id": "cell-e7f74e965b17b786",
     "locked": true,
     "schema_version": 3,
     "solution": false,
     "task": false
    }
   },
   "source": [
    "# Verification if programs run from the commandline work\n",
    "Advanced versions of an assignment and completed components of the final system must run from the commandline.\n",
    "Autograding for these assignments will call the script with specific settings and check whether expected output is printed to a file. We will test this here through a program that will print \"Hello World!\" in an output file.\n",
    "In this case, the hidden text may make use of a different outputfile. In order for verification to work, you can adapt the command_frame, but the call (through os.system) should yield the expected results when other variables change. "
   ]
  },
  {
   "cell_type": "markdown",
   "metadata": {
    "deletable": false,
    "editable": false,
    "nbgrader": {
     "cell_type": "markdown",
     "checksum": "2829bf0316676efe6d088f2e58f3785a",
     "grade": false,
     "grade_id": "cell-0b28faa9b2238ffc",
     "locked": true,
     "schema_version": 3,
     "solution": false,
     "task": false
    }
   },
   "source": [
    "# Specific instructions\n",
    "The program takes (at least) one argument: the name of the outputfile.\n",
    "It must print the string \"Hello World!\" to this outputfile\n",
    "The setup assumes the program is called 'write_hello_world.py'. Make sure to name your file this way *or* change the command_frame accordingly."
   ]
  },
  {
   "cell_type": "code",
   "execution_count": null,
   "metadata": {
    "deletable": false,
    "editable": false,
    "nbgrader": {
     "cell_type": "code",
     "checksum": "c754c48e98a07ee9e3614d97f79d03f4",
     "grade": true,
     "grade_id": "cell-141a12708d713dda",
     "locked": true,
     "points": 1,
     "schema_version": 3,
     "solution": false,
     "task": false
    }
   },
   "outputs": [],
   "source": [
    "import os\n",
    "from nose.tools import assert_equal\n",
    "\n",
    "def check_info_in_file(filename, text):\n",
    "    '''\n",
    "    checks whether a specific string is present in a file\n",
    "    :param filename: the name of the verification file\n",
    "    :param text: the text that is expected\n",
    "    \n",
    "    :returns a boolean indicating whether the text is found in the file or not\n",
    "    '''   \n",
    "    with open(filename) as f:\n",
    "        if text in f.read():\n",
    "            return True\n",
    "        else:\n",
    "            return False\n",
    "\n",
    "    \n",
    "command_frame = 'python write_hello_world.py'\n",
    "outputfile = 'helloworld.txt'\n",
    "os.system(command_frame + ' ' + outputfile)\n",
    "\n",
    "assert_equal(check_info_in_file(outputfile, 'Hello World!'),True)\n",
    "\n"
   ]
  }
 ],
 "metadata": {
  "kernelspec": {
   "display_name": "Python 3",
   "language": "python",
   "name": "python3"
  },
  "language_info": {
   "codemirror_mode": {
    "name": "ipython",
    "version": 3
   },
   "file_extension": ".py",
   "mimetype": "text/x-python",
   "name": "python",
   "nbconvert_exporter": "python",
   "pygments_lexer": "ipython3",
   "version": "3.6.7"
  }
 },
 "nbformat": 4,
 "nbformat_minor": 2
}
