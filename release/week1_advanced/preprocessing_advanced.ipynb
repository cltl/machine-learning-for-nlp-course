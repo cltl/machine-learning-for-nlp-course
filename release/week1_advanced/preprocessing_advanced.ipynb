{
 "cells": [
  {
   "cell_type": "markdown",
   "metadata": {
    "nbgrader": {
     "grade": false,
     "grade_id": "cell-dbcabed1ed5c6a56",
     "locked": true,
     "schema_version": 3,
     "solution": false,
     "task": false
    }
   },
   "source": [
    "# Instructions\n",
    "Write a program that takes care of preprocessing of conll files. The code should:\n",
    "1. verify whether the tokens of two conll files align\n",
    "2. convert annotations so that both files make use of the same conventions (if applicable)\n",
    "\n",
    "The program should output a log file called preprocessing.log that specifies which files corresponded and which files did not. This should be formatted in the following way (with filename1 and filename2), depending on which applies:\n",
    "filename1 and filename2: ALIGN\n",
    "filename1 and filename2: MISSMATCH\n",
    "\n",
    "The log should furthermore specify whether a specific file contains converted annotations:\n",
    "filename2 contains CONVERSIONS"
   ]
  },
  {
   "cell_type": "code",
   "execution_count": 5,
   "metadata": {
    "nbgrader": {
     "grade": false,
     "grade_id": "cell-304f99557b9b6d53",
     "locked": false,
     "schema_version": 3,
     "solution": true,
     "task": false
    }
   },
   "outputs": [],
   "source": [
    "import os\n",
    "from nose.tools import assert_equal\n",
    "\n",
    "\n",
    "def check_info_in_file(filename, text):\n",
    "    '''\n",
    "    checks whether a specific string is present in a file\n",
    "    :param filename: the name of the verification file\n",
    "    :param text: the text that is expected\n",
    "    \n",
    "    :returns a boolean indicating whether the text is found in the file or not\n",
    "    '''   \n",
    "    with open(filename) as f:\n",
    "        if text in f.read():\n",
    "            return True\n",
    "        else:\n",
    "            return False\n",
    "\n",
    "##SAMPLE COMMAND FRAME: CHANGE IF YOU GAVE YOUR PROGRAM A DIFFERENT NAME\n",
    "command_frame = 'python preprocess.py '\n",
    "\n",
    "#PLEASE KEEP THIS STABLE\n",
    "logfile = 'preprocessing.log'\n",
    "\n",
    "#THESE WILL BE DEFINED AS PART OF THE TEST\n",
    "goldfile = 'data/minigold.csv'\n",
    "\n",
    "#THESE WILL BE DEFINED AS PART OF THE TEST\n",
    "systemout = 'data/miniout1.csv'\n",
    "\n",
    "\n"
   ]
  },
  {
   "cell_type": "code",
   "execution_count": null,
   "metadata": {
    "nbgrader": {
     "grade": false,
     "grade_id": "cell-fa3a20c5fe8f37ee",
     "locked": false,
     "schema_version": 3,
     "solution": true,
     "task": false
    }
   },
   "outputs": [],
   "source": [
    "###REDEFINE COMMAND HERE IF YOU NEED TO\n",
    "# command_frame = ''"
   ]
  },
  {
   "cell_type": "code",
   "execution_count": null,
   "metadata": {
    "nbgrader": {
     "grade": true,
     "grade_id": "cell-97898ef964a3640a",
     "locked": true,
     "points": 1,
     "schema_version": 3,
     "solution": false,
     "task": false
    }
   },
   "outputs": [],
   "source": [
    "\n",
    "os.system(command_frame + goldfile + ' ' + systemout)\n",
    "assert_equal(check_info_in_file(logfile, goldfile + ' ' + systemout + ': ALIGN'),True)\n",
    "### BEGIN HIDDEN TESTS \n",
    "\n",
    "goldfile = '../../testdata/minigold.csv'\n",
    "systemout = '../../testdata/miniout2.csv'\n",
    "os.system(command_frame + goldfile + ' ' + systemout)\n",
    "\n",
    "assert_equal(check_info_in_file(logfile, goldfile + ' ' + systemout + ': MISMATCH'),True)\n",
    "assert_equal(check_info_in_file(logfile, goldfile + ' ' + systemout + ': ALIGN'),False)\n",
    "### END HIDDEN TESTS"
   ]
  }
 ],
 "metadata": {
  "celltoolbar": "Create Assignment",
  "kernelspec": {
   "display_name": "Python 3",
   "language": "python",
   "name": "python3"
  },
  "language_info": {
   "codemirror_mode": {
    "name": "ipython",
    "version": 3
   },
   "file_extension": ".py",
   "mimetype": "text/x-python",
   "name": "python",
   "nbconvert_exporter": "python",
   "pygments_lexer": "ipython3",
   "version": "3.6.7"
  }
 },
 "nbformat": 4,
 "nbformat_minor": 2
}
