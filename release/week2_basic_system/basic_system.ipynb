{
 "cells": [
  {
   "cell_type": "markdown",
   "metadata": {},
   "source": [
    "Before you turn this problem in, make sure everything runs as expected. First, **restart the kernel** (in the menubar, select Kernel$\\rightarrow$Restart) and then **run all cells** (in the menubar, select Cell$\\rightarrow$Run All).\n",
    "\n",
    "Make sure you fill in any place that says `YOUR CODE HERE` or \"YOUR ANSWER HERE\", as well as your name and collaborators below:"
   ]
  },
  {
   "cell_type": "code",
   "execution_count": null,
   "metadata": {},
   "outputs": [],
   "source": [
    "NAME = \"\"\n",
    "COLLABORATORS = \"\""
   ]
  },
  {
   "cell_type": "markdown",
   "metadata": {},
   "source": [
    "---"
   ]
  },
  {
   "cell_type": "code",
   "execution_count": null,
   "metadata": {
    "deletable": false,
    "editable": false,
    "nbgrader": {
     "cell_type": "code",
     "checksum": "4d671df2aa5f9fa7b55de9a4abe0d80f",
     "grade": false,
     "grade_id": "cell-3d99c0957aaecee4",
     "locked": true,
     "schema_version": 3,
     "solution": false,
     "task": false
    }
   },
   "outputs": [],
   "source": [
    "from sklearn.linear_model import LogisticRegression\n",
    "from sklearn.feature_extraction import DictVectorizer\n",
    "import pandas as pd\n",
    "import sys\n",
    "#if you want to use other modules, you can import them in the next cell.\n",
    "#Please note the recommendations on using modules in the Programming General Guidelines\n",
    "\n",
    "#recommended resource for examples:\n",
    "\n",
    "#https://scikit-learn.org/stable/modules/feature_extraction.html"
   ]
  },
  {
   "cell_type": "code",
   "execution_count": null,
   "metadata": {
    "deletable": false,
    "nbgrader": {
     "cell_type": "code",
     "checksum": "c5ef52f9a98df31fd6a0e5777689b3f7",
     "grade": false,
     "grade_id": "cell-e38984347bf7ee7f",
     "locked": false,
     "schema_version": 3,
     "solution": true,
     "task": false
    }
   },
   "outputs": [],
   "source": [
    "def extract_features_and_labels(trainingfile):\n",
    "    '''\n",
    "    This function takes a training file as input and extracts feature values and corresponding target labels.\n",
    "    We will assume for now that the gold label is always found in the last column (this may not always be the case)\n",
    "    We are just using one feature for now: the token itself. You can already implement more features, but this is optional.\n",
    "    \n",
    "    :param trainingfile: the path to the training file\n",
    "    \n",
    "    :returns a list of feature values (recommended: a list of dictionaries) and a list of gold labels\n",
    "    \n",
    "    Note: see the pos_window for an example. \n",
    "    Since we are only using one feature, there will be only one key-value pair in each dictionary in this case\n",
    "    '''\n",
    "    # YOUR CODE HERE\n",
    "    raise NotImplementedError()"
   ]
  },
  {
   "cell_type": "code",
   "execution_count": null,
   "metadata": {
    "deletable": false,
    "nbgrader": {
     "cell_type": "code",
     "checksum": "98f42fadd7bb840945a75b76a8a79469",
     "grade": false,
     "grade_id": "cell-06a9fc85e417bcbb",
     "locked": false,
     "schema_version": 3,
     "solution": true,
     "task": false
    }
   },
   "outputs": [],
   "source": [
    "def extract_features(inputfile):\n",
    "    '''\n",
    "    This function takes the inputfile meant to be annotated as input and extracts feature values.\n",
    "    It should use the exact same format for feature representation as the extract_features_and_labels function.\n",
    "    You can thus consider to provide a shared function for obtaining feature values\n",
    "    \n",
    "    \n",
    "    :param trainingfile: the path to the training file\n",
    "    \n",
    "    :returns a list of feature values (recommended: a list of dictionaries) and a list of gold labels\n",
    "    \n",
    "    Note: see the pos_window for an example. \n",
    "    Since we are only using one feature, there will be only one key-value pair in each dictionary in this case\n",
    "    '''\n",
    "    # YOUR CODE HERE\n",
    "    raise NotImplementedError()"
   ]
  },
  {
   "cell_type": "code",
   "execution_count": null,
   "metadata": {
    "deletable": false,
    "nbgrader": {
     "cell_type": "code",
     "checksum": "ddd1a99a2f15e38fe64d9613844fb951",
     "grade": false,
     "grade_id": "cell-56963e5abadbf73a",
     "locked": false,
     "schema_version": 3,
     "solution": true,
     "task": false
    }
   },
   "outputs": [],
   "source": [
    "def create_classifier(train_features, train_targets):\n",
    "    '''\n",
    "    This function takes the training features (recommend object: dictionary of lists) and gold labels as input.\n",
    "    It converts the feature representations to a vectorized representation and trains a classifier. \n",
    "    It returns the classifier and vectorizer (needed to match features when using the model)\n",
    "    \n",
    "    :param train_features: the feature values for training\n",
    "    :param train_targets: the gold labels\n",
    "    \n",
    "    :returns the trained model (LogisticRegression()) and vectorizer (DictVectorizer) to which the training data was fit and transformed.\n",
    "    \n",
    "    Note: the feature values should be fit (this maps a specific value to a point in space) and transformed (transforms each individual input to this space)\n",
    "    This will be treated in class (just follow online examples if you do not understand completely yet)\n",
    "    '''\n",
    "    # YOUR CODE HERE\n",
    "    raise NotImplementedError()\n",
    "    \n",
    "    return model, vec"
   ]
  },
  {
   "cell_type": "code",
   "execution_count": null,
   "metadata": {
    "deletable": false,
    "nbgrader": {
     "cell_type": "code",
     "checksum": "17dc5c10a7ade2a3e6134d81d4a12cd3",
     "grade": false,
     "grade_id": "cell-2dea0e0db2061e57",
     "locked": false,
     "schema_version": 3,
     "solution": true,
     "task": false
    }
   },
   "outputs": [],
   "source": [
    "def classify_data(model, vec, inputdata, outputfile):\n",
    "    '''\n",
    "    This function takes a trained model, the matching vectorization object and predicts labels on the input data.\n",
    "    The outcome is written to an output file. Ideally, this output file should place the predicted labels next to the input\n",
    "    (i.e. add a column with predicted labels to the input conll file)\n",
    "    \n",
    "    :param model: a trained machine learning model\n",
    "    :param vec: a DictVectorizer that can map feature values to the vector representation needed for the model\n",
    "    :param inputdata: the input data file\n",
    "    :param outputfile: the output file\n",
    "    \n",
    "    Note: the feature values should only be transformed with the DictVectorizer now. \n",
    "    If they are also fit, a new mapping will be created and the model will not recognize the features.\n",
    "    (Here it holds as well: this will be explained in class. If you do not get this now, just follow online examples)\n",
    "    '''\n",
    "    \n",
    "    # YOUR CODE HERE\n",
    "    raise NotImplementedError()"
   ]
  },
  {
   "cell_type": "code",
   "execution_count": null,
   "metadata": {
    "deletable": false,
    "nbgrader": {
     "cell_type": "code",
     "checksum": "67799eed53370a7dd4be105367c9db82",
     "grade": true,
     "grade_id": "cell-6e3aafdc089902d1",
     "locked": false,
     "points": 1,
     "schema_version": 3,
     "solution": true,
     "task": false
    }
   },
   "outputs": [],
   "source": [
    "# YOUR CODE HERE\n",
    "raise NotImplementedError()"
   ]
  },
  {
   "cell_type": "code",
   "execution_count": null,
   "metadata": {},
   "outputs": [],
   "source": []
  },
  {
   "cell_type": "code",
   "execution_count": null,
   "metadata": {},
   "outputs": [],
   "source": []
  }
 ],
 "metadata": {
  "kernelspec": {
   "display_name": "Python 3",
   "language": "python",
   "name": "python3"
  },
  "language_info": {
   "codemirror_mode": {
    "name": "ipython",
    "version": 3
   },
   "file_extension": ".py",
   "mimetype": "text/x-python",
   "name": "python",
   "nbconvert_exporter": "python",
   "pygments_lexer": "ipython3",
   "version": "3.6.7"
  }
 },
 "nbformat": 4,
 "nbformat_minor": 2
}
